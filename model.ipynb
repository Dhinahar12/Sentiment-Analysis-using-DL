{
 "cells": [
  {
   "cell_type": "code",
   "execution_count": 1,
   "metadata": {},
   "outputs": [],
   "source": [
    "import pandas as pd\n",
    "from tensorflow.keras.preprocessing.text import Tokenizer\n",
    "from tensorflow.keras.preprocessing.sequence import pad_sequences\n",
    "from tensorflow.keras.models import Sequential\n",
    "from tensorflow.keras.layers import Dense, Embedding, LSTM, SpatialDropout1D\n",
    "from sklearn.model_selection import train_test_split\n",
    "import re"
   ]
  },
  {
   "cell_type": "code",
   "execution_count": 2,
   "metadata": {},
   "outputs": [],
   "source": [
    "data = pd.read_csv('Sentiment.csv')\n",
    "\n",
    "# Keeping only the neccessary columns\n",
    "data = data[['text','sentiment']]\n"
   ]
  },
  {
   "cell_type": "code",
   "execution_count": 3,
   "metadata": {},
   "outputs": [],
   "source": [
    "def preProcess_data(text):\n",
    "   text = text.lower()\n",
    "   new_text = re.sub('[^a-zA-z0-9\\s]','',text)\n",
    "   new_text = re.sub('rt', '', new_text)\n",
    "   return new_text\n",
    "\n",
    "data['text'] = data['text'].apply(preProcess_data)\n"
   ]
  },
  {
   "cell_type": "code",
   "execution_count": 4,
   "metadata": {},
   "outputs": [],
   "source": [
    "max_fatures = 2000\n",
    "\n",
    "tokenizer = Tokenizer(num_words=max_fatures, split=' ')\n",
    "tokenizer.fit_on_texts(data['text'].values)\n",
    "X = tokenizer.texts_to_sequences(data['text'].values)\n",
    "X = pad_sequences(X, 28) \n",
    "\n",
    "Y = pd.get_dummies(data['sentiment']).values"
   ]
  },
  {
   "cell_type": "code",
   "execution_count": 5,
   "metadata": {},
   "outputs": [],
   "source": [
    "X_train, X_test, Y_train, Y_test = train_test_split(X,Y, test_size = 0.20)"
   ]
  },
  {
   "cell_type": "code",
   "execution_count": 6,
   "metadata": {},
   "outputs": [],
   "source": [
    "embed_dim = 128\n",
    "lstm_out = 196\n",
    "\n",
    "model = Sequential()\n",
    "model.add(Embedding(max_fatures, embed_dim,input_length = X.shape[1]))\n",
    "model.add(SpatialDropout1D(0.4))\n",
    "model.add(LSTM(lstm_out, dropout=0.3, recurrent_dropout=0.2, return_sequences=True))\n",
    "model.add(LSTM(128,recurrent_dropout=0.2))\n",
    "model.add(Dense(3,activation='softmax'))\n",
    "\n",
    "model.compile(loss = 'categorical_crossentropy', optimizer='adam',metrics = ['accuracy'])\n"
   ]
  },
  {
   "cell_type": "code",
   "execution_count": 7,
   "metadata": {},
   "outputs": [
    {
     "name": "stdout",
     "output_type": "stream",
     "text": [
      "Epoch 1/10\n",
      "22/22 [==============================] - 24s 905ms/step - loss: 0.9606 - accuracy: 0.5967 - val_loss: 0.8940 - val_accuracy: 0.6054\n",
      "Epoch 2/10\n",
      "22/22 [==============================] - 20s 917ms/step - loss: 0.8408 - accuracy: 0.6247 - val_loss: 0.8083 - val_accuracy: 0.6486\n",
      "Epoch 3/10\n",
      "22/22 [==============================] - 21s 938ms/step - loss: 0.7441 - accuracy: 0.6718 - val_loss: 0.7675 - val_accuracy: 0.6703\n",
      "Epoch 4/10\n",
      "22/22 [==============================] - 20s 925ms/step - loss: 0.6869 - accuracy: 0.6995 - val_loss: 0.7571 - val_accuracy: 0.6735\n",
      "Epoch 5/10\n",
      "22/22 [==============================] - 21s 945ms/step - loss: 0.6440 - accuracy: 0.7226 - val_loss: 0.7455 - val_accuracy: 0.6746\n",
      "Epoch 6/10\n",
      "22/22 [==============================] - 21s 937ms/step - loss: 0.6091 - accuracy: 0.7349 - val_loss: 0.7585 - val_accuracy: 0.6793\n",
      "Epoch 7/10\n",
      "22/22 [==============================] - 21s 936ms/step - loss: 0.5885 - accuracy: 0.7431 - val_loss: 0.7660 - val_accuracy: 0.6829\n",
      "Epoch 8/10\n",
      "22/22 [==============================] - 21s 948ms/step - loss: 0.5746 - accuracy: 0.7513 - val_loss: 0.7666 - val_accuracy: 0.6804\n",
      "Epoch 9/10\n",
      "22/22 [==============================] - 21s 937ms/step - loss: 0.5625 - accuracy: 0.7570 - val_loss: 0.7912 - val_accuracy: 0.6760\n",
      "Epoch 10/10\n",
      "22/22 [==============================] - 21s 974ms/step - loss: 0.5470 - accuracy: 0.7676 - val_loss: 0.8131 - val_accuracy: 0.6850\n"
     ]
    },
    {
     "data": {
      "text/plain": [
       "<keras.callbacks.History at 0x220fd848c70>"
      ]
     },
     "execution_count": 7,
     "metadata": {},
     "output_type": "execute_result"
    }
   ],
   "source": [
    "batch_size = 512\n",
    "\n",
    "model.fit(X_train, Y_train, epochs = 10, batch_size=batch_size, validation_data=(X_test, Y_test))\n"
   ]
  },
  {
   "cell_type": "code",
   "execution_count": 8,
   "metadata": {},
   "outputs": [],
   "source": [
    "model.save('sentiment.h5')"
   ]
  },
  {
   "cell_type": "code",
   "execution_count": null,
   "metadata": {},
   "outputs": [],
   "source": []
  },
  {
   "cell_type": "code",
   "execution_count": null,
   "metadata": {},
   "outputs": [],
   "source": []
  }
 ],
 "metadata": {
  "interpreter": {
   "hash": "fadce7d323aa2a21e861deea821d9323f417a3dd06cc4eca23a925519083f061"
  },
  "kernelspec": {
   "display_name": "Python 3.9.7 ('base')",
   "language": "python",
   "name": "python3"
  },
  "language_info": {
   "codemirror_mode": {
    "name": "ipython",
    "version": 3
   },
   "file_extension": ".py",
   "mimetype": "text/x-python",
   "name": "python",
   "nbconvert_exporter": "python",
   "pygments_lexer": "ipython3",
   "version": "3.9.7"
  },
  "orig_nbformat": 4
 },
 "nbformat": 4,
 "nbformat_minor": 2
}
